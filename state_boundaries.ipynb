{
 "cells": [
  {
   "cell_type": "code",
   "execution_count": 1,
   "metadata": {},
   "outputs": [
    {
     "name": "stdout",
     "output_type": "stream",
     "text": [
      "Requirement already satisfied: wget in c:\\users\\ivan\\anaconda3\\lib\\site-packages (3.2)\n"
     ]
    }
   ],
   "source": [
    "!pip install wget"
   ]
  },
  {
   "cell_type": "code",
   "execution_count": 2,
   "metadata": {},
   "outputs": [
    {
     "data": {
      "text/plain": [
       "'cb_2018_us_state_500k (5).zip'"
      ]
     },
     "execution_count": 2,
     "metadata": {},
     "output_type": "execute_result"
    }
   ],
   "source": [
    "import wget\n",
    "\n",
    "url = \"https://www2.census.gov/geo/tiger/GENZ2018/shp/cb_2018_us_state_500k.zip\"\n",
    "destination = \"cb_2018_us_state_500k.zip\"\n",
    "\n",
    "wget.download(url, destination)"
   ]
  },
  {
   "cell_type": "code",
   "execution_count": 3,
   "metadata": {},
   "outputs": [],
   "source": [
    "import zipfile\n",
    "import os\n",
    "\n",
    "# Path to the downloaded ZIP file\n",
    "zip_file = \"cb_2018_us_state_500k.zip\"\n",
    "# Directory to extract the contents to\n",
    "extract_dir = \"data\"\n",
    "\n",
    "# Create the directory if it doesn't exist\n",
    "os.makedirs(extract_dir, exist_ok=True)\n",
    "\n",
    "# Extract the contents of the ZIP file\n",
    "with zipfile.ZipFile(zip_file, \"r\") as zip_ref:\n",
    "    zip_ref.extractall(extract_dir)"
   ]
  },
  {
   "cell_type": "code",
   "execution_count": 4,
   "metadata": {},
   "outputs": [
    {
     "name": "stdout",
     "output_type": "stream",
     "text": [
      "  STATEFP   STATENS     AFFGEOID GEOID STUSPS            NAME LSAD  \\\n",
      "0      28  01779790  0400000US28    28     MS     Mississippi   00   \n",
      "1      37  01027616  0400000US37    37     NC  North Carolina   00   \n",
      "2      40  01102857  0400000US40    40     OK        Oklahoma   00   \n",
      "3      51  01779803  0400000US51    51     VA        Virginia   00   \n",
      "4      54  01779805  0400000US54    54     WV   West Virginia   00   \n",
      "\n",
      "          ALAND       AWATER  \\\n",
      "0  121533519481   3926919758   \n",
      "1  125923656064  13466071395   \n",
      "2  177662925723   3374587997   \n",
      "3  102257717110   8528531774   \n",
      "4   62266474513    489028543   \n",
      "\n",
      "                                            geometry  \n",
      "0  MULTIPOLYGON (((-88.50297 30.21523, -88.49176 ...  \n",
      "1  MULTIPOLYGON (((-75.72681 35.93584, -75.71827 ...  \n",
      "2  POLYGON ((-103.00257 36.52659, -103.00219 36.6...  \n",
      "3  MULTIPOLYGON (((-75.74241 37.80835, -75.74151 ...  \n",
      "4  POLYGON ((-82.64320 38.16909, -82.64300 38.169...  \n"
     ]
    }
   ],
   "source": [
    "import geopandas as gpd\n",
    "\n",
    "# Load the shapefile\n",
    "shapefile_path = os.path.join(\"data\", \"cb_2018_us_state_500k.shp\")\n",
    "gdf = gpd.read_file(shapefile_path)\n",
    "\n",
    "# Now you can work with the GeoDataFrame 'gdf' as needed\n",
    "print(gdf.head())"
   ]
  },
  {
   "cell_type": "code",
   "execution_count": 5,
   "metadata": {},
   "outputs": [],
   "source": [
    "from shapely.geometry import mapping\n",
    "import numpy as np\n",
    "\n",
    "# Define a dictionary to store state coordinates\n",
    "state_coords = {}\n",
    "\n",
    "# Iterate over each state in the GeoDataFrame\n",
    "for idx, row in gdf.iterrows():\n",
    "    # Extract the geometry of the state\n",
    "    geometry = row[\"geometry\"]\n",
    "    # Convert the geometry to a GeoJSON object\n",
    "    geojson_obj = mapping(geometry)\n",
    "    # Extract the coordinates from the GeoJSON object\n",
    "    geo_coords = geojson_obj[\"coordinates\"]\n",
    "    # Determine the index of the largest polygon (if there are multiple)\n",
    "    idx = np.argmax([len(coords[0]) for coords in geo_coords])\n",
    "    # Store the coordinates of the largest polygon in the dictionary\n",
    "    state_coords[row[\"NAME\"]] = geo_coords[idx]"
   ]
  },
  {
   "cell_type": "code",
   "execution_count": 6,
   "metadata": {},
   "outputs": [
    {
     "name": "stdout",
     "output_type": "stream",
     "text": [
      "(-103.002565, 36.526588)\n"
     ]
    }
   ],
   "source": [
    "# Define a dictionary to store simplified state coordinates\n",
    "simplified_state_coords = {}\n",
    "\n",
    "# Iterate over each state's coordinates\n",
    "for state_name, state_coord in state_coords.items():\n",
    "    # If the state has multiple polygons, simplify to a single polygon\n",
    "    if len(state_coord) > 1:\n",
    "        state_coord = state_coord[0]\n",
    "    # Store the simplified coordinates in the dictionary\n",
    "    simplified_state_coords[state_name] = state_coord\n",
    "    \n",
    "print(simplified_state_coords[\"Oklahoma\"])"
   ]
  },
  {
   "cell_type": "code",
   "execution_count": 7,
   "metadata": {
    "scrolled": true
   },
   "outputs": [
    {
     "name": "stdout",
     "output_type": "stream",
     "text": [
      "Current directory: C:\\Users\\Ivan\\Documents\n"
     ]
    }
   ],
   "source": [
    "print(\"Current directory:\", os.getcwd())"
   ]
  },
  {
   "cell_type": "code",
   "execution_count": 8,
   "metadata": {},
   "outputs": [],
   "source": [
    "import json\n",
    "\n",
    "with open('data/state_coordinates_1.json', 'w') as f:\n",
    "    json.dump(simplified_state_coords, f)"
   ]
  },
  {
   "cell_type": "code",
   "execution_count": 9,
   "metadata": {},
   "outputs": [
    {
     "name": "stdout",
     "output_type": "stream",
     "text": [
      "Filtered state coordinates saved successfully.\n"
     ]
    }
   ],
   "source": [
    "import requests\n",
    "import json\n",
    "\n",
    "# Define the API endpoint with the scheme\n",
    "api_url = \"https://public.opendatasoft.com/api/explore/v2.1/catalog/datasets/us-state-boundaries/records?limit=50\"\n",
    "\n",
    "# Make the API request\n",
    "response = requests.get(api_url)\n",
    "\n",
    "# Check if the request was successful\n",
    "if response.status_code == 200:\n",
    "    # Parse the JSON response\n",
    "    data = response.json()\n",
    "    \n",
    "    # Check if 'results' key exists in the response\n",
    "    if 'results' in data:\n",
    "        # Initialize a dictionary to store state coordinates\n",
    "        state_coords = {}\n",
    "\n",
    "        # Iterate over each record in the 'results'\n",
    "        for record in data['results']:\n",
    "            # Extract the name of the state\n",
    "            state_name = record['name']\n",
    "\n",
    "            # Extract the coordinates of the state boundary\n",
    "            coordinates = record['st_asgeojson']['geometry']['coordinates']\n",
    "\n",
    "            # Add the state name and coordinates to the dictionary\n",
    "            state_coords[state_name] = coordinates\n",
    "\n",
    "        # Remove certain states from the dictionary\n",
    "        states_to_remove = [\"Alaska\", \"Hawaii\"]  # Add the names of states you want to remove\n",
    "        for state in states_to_remove:\n",
    "            if state in state_coords:\n",
    "                del state_coords[state]\n",
    "\n",
    "        # Save the state coordinates to a JSON file\n",
    "        with open('data/state_coordinates_filtered.json', 'w') as f:\n",
    "            json.dump(state_coords, f)\n",
    "\n",
    "        print(\"Filtered state coordinates saved successfully.\")\n",
    "    else:\n",
    "        print(\"No 'results' found in the API response.\")\n",
    "else:\n",
    "    print(\"Failed to fetch data from the API.\")"
   ]
  }
 ],
 "metadata": {
  "kernelspec": {
   "display_name": "Python 3 (ipykernel)",
   "language": "python",
   "name": "python3"
  },
  "language_info": {
   "codemirror_mode": {
    "name": "ipython",
    "version": 3
   },
   "file_extension": ".py",
   "mimetype": "text/x-python",
   "name": "python",
   "nbconvert_exporter": "python",
   "pygments_lexer": "ipython3",
   "version": "3.11.5"
  }
 },
 "nbformat": 4,
 "nbformat_minor": 2
}
